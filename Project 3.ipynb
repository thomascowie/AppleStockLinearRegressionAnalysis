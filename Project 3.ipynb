{
 "cells": [
  {
   "cell_type": "markdown",
   "id": "2fa445eb",
   "metadata": {},
   "source": [
    "# Project 3"
   ]
  },
  {
   "cell_type": "code",
   "execution_count": 10,
   "id": "860adafe",
   "metadata": {},
   "outputs": [],
   "source": [
    "import matplotlib.pyplot as plt\n",
    "import numpy as np\n",
    "import pandas as pd\n",
    "from sklearn import datasets, linear_model\n",
    "from sklearn.linear_model import LinearRegression\n",
    "from sklearn.datasets import fetch_california_housing\n",
    "from sklearn.metrics import mean_squared_error, r2_score"
   ]
  },
  {
   "cell_type": "markdown",
   "id": "443ddebe",
   "metadata": {},
   "source": [
    "## Get Data"
   ]
  },
  {
   "cell_type": "code",
   "execution_count": 11,
   "id": "ae41de1d",
   "metadata": {},
   "outputs": [],
   "source": [
    "stocks = pd.read_csv('prices.csv')"
   ]
  },
  {
   "cell_type": "code",
   "execution_count": 12,
   "id": "693d6a29",
   "metadata": {},
   "outputs": [
    {
     "name": "stdout",
     "output_type": "stream",
     "text": [
      "<bound method NDFrame.head of                        date symbol        open       close         low  \\\n",
      "0       2016-01-05 00:00:00   WLTW  123.430000  125.839996  122.309998   \n",
      "1       2016-01-06 00:00:00   WLTW  125.239998  119.980003  119.940002   \n",
      "2       2016-01-07 00:00:00   WLTW  116.379997  114.949997  114.930000   \n",
      "3       2016-01-08 00:00:00   WLTW  115.480003  116.620003  113.500000   \n",
      "4       2016-01-11 00:00:00   WLTW  117.010002  114.970001  114.089996   \n",
      "...                     ...    ...         ...         ...         ...   \n",
      "851259           2016-12-30    ZBH  103.309998  103.199997  102.849998   \n",
      "851260           2016-12-30   ZION   43.070000   43.040001   42.689999   \n",
      "851261           2016-12-30    ZTS   53.639999   53.529999   53.270000   \n",
      "851262  2016-12-30 00:00:00    AIV   44.730000   45.450001   44.410000   \n",
      "851263  2016-12-30 00:00:00    FTV   54.200001   53.630001   53.389999   \n",
      "\n",
      "              high     volume  \n",
      "0       126.250000  2163600.0  \n",
      "1       125.540001  2386400.0  \n",
      "2       119.739998  2489500.0  \n",
      "3       117.440002  2006300.0  \n",
      "4       117.330002  1408600.0  \n",
      "...            ...        ...  \n",
      "851259  103.930000   973800.0  \n",
      "851260   43.310001  1938100.0  \n",
      "851261   53.740002  1701200.0  \n",
      "851262   45.590000  1380900.0  \n",
      "851263   54.480000   705100.0  \n",
      "\n",
      "[851264 rows x 7 columns]>\n",
      "851264\n"
     ]
    }
   ],
   "source": [
    "print(stocks.head)\n",
    "print(len(stocks))"
   ]
  },
  {
   "cell_type": "code",
   "execution_count": 14,
   "id": "435606fb",
   "metadata": {},
   "outputs": [
    {
     "name": "stdout",
     "output_type": "stream",
     "text": [
      "<bound method NDFrame.head of               date symbol        open       close         low        high  \\\n",
      "254     2010-01-04   AAPL  213.429998  214.009998  212.380001  214.499996   \n",
      "721     2010-01-05   AAPL  214.599998  214.379993  213.249994  215.589994   \n",
      "1189    2010-01-06   AAPL  214.379993  210.969995  210.750004  215.230000   \n",
      "1657    2010-01-07   AAPL  211.750000  210.580000  209.050005  212.000006   \n",
      "2125    2010-01-08   AAPL  210.299994  211.980005  209.060005  212.000006   \n",
      "...            ...    ...         ...         ...         ...         ...   \n",
      "848767  2016-12-23   AAPL  115.589996  116.519997  115.589996  116.519997   \n",
      "849267  2016-12-27   AAPL  116.519997  117.260002  116.489998  117.800003   \n",
      "849767  2016-12-28   AAPL  117.519997  116.760002  116.199997  118.019997   \n",
      "850267  2016-12-29   AAPL  116.449997  116.730003  116.400002  117.110001   \n",
      "850767  2016-12-30   AAPL  116.650002  115.820000  115.430000  117.199997   \n",
      "\n",
      "             volume  \n",
      "254     123432400.0  \n",
      "721     150476200.0  \n",
      "1189    138040000.0  \n",
      "1657    119282800.0  \n",
      "2125    111902700.0  \n",
      "...             ...  \n",
      "848767   14249500.0  \n",
      "849267   18296900.0  \n",
      "849767   20905900.0  \n",
      "850267   15039500.0  \n",
      "850767   30586300.0  \n",
      "\n",
      "[1762 rows x 7 columns]>\n",
      "1762\n"
     ]
    }
   ],
   "source": [
    "stocks.columns\n",
    "stocks.describe\n",
    "appleStock = stocks.loc[stocks.symbol == 'AAPL']\n",
    "print(appleStock.head)\n",
    "print(len(appleStock))"
   ]
  },
  {
   "cell_type": "markdown",
   "id": "56bddb42",
   "metadata": {},
   "source": [
    "## Make Train and Test Sets"
   ]
  },
  {
   "cell_type": "code",
   "execution_count": 15,
   "id": "a4a05df4",
   "metadata": {},
   "outputs": [
    {
     "name": "stdout",
     "output_type": "stream",
     "text": [
      "<class 'pandas.core.frame.DataFrame'>\n",
      "1762\n",
      "<class 'pandas.core.frame.DataFrame'>\n",
      "1762\n",
      "1742\n",
      "20\n"
     ]
    }
   ],
   "source": [
    "# Split the data into training/testing sets\n",
    "appleOpen = appleStock['open']\n",
    "appleOpen = appleOpen.to_frame()\n",
    "print(type(appleOpen))\n",
    "print(len(appleOpen))\n",
    "appleOpen.describe\n",
    "apple_X_train = appleOpen[:-20]\n",
    "apple_X_test = appleOpen[-20:]\n",
    "\n",
    "# Split the targets into training/testing sets\n",
    "appleClose = appleStock['close']\n",
    "appleClose = appleClose.to_frame()\n",
    "print(type(appleClose))\n",
    "print(len(appleClose))\n",
    "appleClose.describe\n",
    "apple_y_train = appleClose[:-20]\n",
    "print(len(apple_y_train))\n",
    "apple_y_test = appleClose[-20:]\n",
    "print(len(apple_y_test))"
   ]
  },
  {
   "cell_type": "code",
   "execution_count": 16,
   "id": "ca2371dd",
   "metadata": {},
   "outputs": [
    {
     "name": "stdout",
     "output_type": "stream",
     "text": [
      "<bound method NDFrame.describe of               open\n",
      "254     213.429998\n",
      "721     214.599998\n",
      "1189    214.379993\n",
      "1657    211.750000\n",
      "2125    210.299994\n",
      "...            ...\n",
      "848767  115.589996\n",
      "849267  116.519997\n",
      "849767  117.519997\n",
      "850267  116.449997\n",
      "850767  116.650002\n",
      "\n",
      "[1762 rows x 1 columns]>\n"
     ]
    }
   ],
   "source": [
    "print(appleOpen.describe)"
   ]
  },
  {
   "cell_type": "code",
   "execution_count": 24,
   "id": "c79bf645",
   "metadata": {},
   "outputs": [
    {
     "name": "stdout",
     "output_type": "stream",
     "text": [
      "<bound method NDFrame.describe of              close\n",
      "841267  109.900002\n",
      "841767  109.110001\n",
      "842267  109.949997\n",
      "842767  111.029999\n",
      "843267  112.120003\n",
      "843767  113.949997\n",
      "844267  113.300003\n",
      "844767  115.190002\n",
      "845267  115.190002\n",
      "845767  115.820000\n",
      "846267  115.970001\n",
      "846767  116.639999\n",
      "847267  116.949997\n",
      "847767  117.059998\n",
      "848267  116.290001\n",
      "848767  116.519997\n",
      "849267  117.260002\n",
      "849767  116.760002\n",
      "850267  116.730003\n",
      "850767  115.820000>\n"
     ]
    }
   ],
   "source": [
    "print(apple_y_test.describe)"
   ]
  },
  {
   "cell_type": "code",
   "execution_count": 30,
   "id": "b8e2c251",
   "metadata": {},
   "outputs": [
    {
     "name": "stdout",
     "output_type": "stream",
     "text": [
      "<bound method NDFrame.describe of              0\n",
      "0   109.251699\n",
      "1   110.080746\n",
      "2   109.581321\n",
      "3   109.341599\n",
      "4   110.939757\n",
      "5   112.388086\n",
      "6   113.366961\n",
      "7   113.916323\n",
      "8   115.114947\n",
      "9   115.454552\n",
      "10  116.543302\n",
      "11  115.874075\n",
      "12  116.812988\n",
      "13  116.872924\n",
      "14  116.423437\n",
      "15  115.664309\n",
      "16  116.593240\n",
      "17  117.592090\n",
      "18  116.523321\n",
      "19  116.723096>\n"
     ]
    }
   ],
   "source": [
    "dfApple_y_pred = pd.DataFrame(apple_y_pred)\n",
    "print(dfApple_y_pred.describe)"
   ]
  },
  {
   "cell_type": "code",
   "execution_count": 17,
   "id": "1c8b53d8",
   "metadata": {},
   "outputs": [
    {
     "name": "stdout",
     "output_type": "stream",
     "text": [
      "1742   1742\n"
     ]
    }
   ],
   "source": [
    "print(len(apple_X_train), ' ', len(apple_y_train))"
   ]
  },
  {
   "cell_type": "markdown",
   "id": "6cb6aabf",
   "metadata": {},
   "source": [
    "## Break Data Up"
   ]
  },
  {
   "cell_type": "code",
   "execution_count": 70,
   "id": "09803331",
   "metadata": {},
   "outputs": [],
   "source": [
    "#Open\n",
    "appleOpenFirst20 = appleStock[:20]\n",
    "appleOpenFirst20 = appleOpenFirst20['open']\n",
    "\n",
    "appleOpenLast20 = appleStock[20:]\n",
    "appleOpenLast20 = appleOpenLast20['open']\n",
    "\n",
    "#Close\n",
    "appleCloseFirst20 = appleStock[:20]\n",
    "appleCloseFirst20 = appleCloseFirst20['open']\n",
    "\n",
    "appleCloseLast20 = appleStock[20:]\n",
    "appleCloseLast20 = appleCloseLast20['close']\n"
   ]
  },
  {
   "cell_type": "markdown",
   "id": "728abecd",
   "metadata": {},
   "source": [
    "## Scatter Models"
   ]
  },
  {
   "cell_type": "code",
   "execution_count": 88,
   "id": "7f1e694e",
   "metadata": {},
   "outputs": [
    {
     "data": {
      "image/png": "[encoded data removed]",
      "text/plain": [
       "<Figure size 864x864 with 1 Axes>"
      ]
     },
     "metadata": {
      "needs_background": "light"
     },
     "output_type": "display_data"
    }
   ],
   "source": [
    "#Scatter Model\n",
    "#appleStock.plot.scatter(x='close',y='open')\n",
    "\n",
    "\n",
    "fig = plt.figure(figsize= (12, 12))\n",
    "ax1 = fig.add_subplot(111)\n",
    "ax1.scatter(x=appleStock['close'], y=appleStock['close'], c='green', s=5)\n",
    "ax1.scatter(x=appleStock['open'], y=appleStock['open'], c='red', s=5)\n",
    "\n",
    "#fig = plt.figure(figsize= (12, 12))\n",
    "#ax1 = fig.add_subplot(111)\n",
    "#ax1.scatter(x=appleOpenFirst20, y=appleOpenFirst20, s=, c='r', label='Open')\n",
    "#ax1.scatter(x=appleCloseFirst20, y=appleCloseFirst20, s=45, c='g', label='Close')\n",
    "#ax1.legend()\n",
    "plt.show()"
   ]
  },
  {
   "cell_type": "code",
   "execution_count": 20,
   "id": "c69679dc",
   "metadata": {},
   "outputs": [
    {
     "data": {
      "text/plain": [
       "LinearRegression()"
      ]
     },
     "execution_count": 20,
     "metadata": {},
     "output_type": "execute_result"
    }
   ],
   "source": [
    "# Create linear regression object\n",
    "regr = linear_model.LinearRegression()\n",
    "\n",
    "# Train the model using the training sets\n",
    "regr.fit(apple_X_train, apple_y_train)"
   ]
  },
  {
   "cell_type": "code",
   "execution_count": 21,
   "id": "affa2171",
   "metadata": {},
   "outputs": [],
   "source": [
    "# Make predictions using the testing set\n",
    "apple_y_pred = regr.predict(apple_X_test)"
   ]
  },
  {
   "cell_type": "markdown",
   "id": "ba89b14d",
   "metadata": {},
   "source": [
    "### Print out Data"
   ]
  },
  {
   "cell_type": "code",
   "execution_count": 32,
   "id": "e05f08e7",
   "metadata": {},
   "outputs": [
    {
     "name": "stdout",
     "output_type": "stream",
     "text": [
      "Coefficients: \n",
      " [[0.99884929]]\n",
      "Mean squared error: 0.68\n"
     ]
    },
    {
     "data": {
      "image/png": "[encoded data removed]",
      "text/plain": [
       "<Figure size 432x288 with 1 Axes>"
      ]
     },
     "metadata": {},
     "output_type": "display_data"
    }
   ],
   "source": [
    "# The coefficients\n",
    "print('Coefficients: \\n', regr.coef_)\n",
    "# The mean squared error\n",
    "print('Mean squared error: %.2f'\n",
    "      % mean_squared_error(apple_y_test, apple_y_pred))\n",
    "# The coefficient of determination: 1 is perfect prediction\n",
    "\n",
    "#***r2 score is having issues with values***\n",
    "# gets a score of -3.0 ??\n",
    "\n",
    "#print('Coefficient of determination: %.2f'\n",
    "      #% r2_score(apple_y_train, apple_y_pred))\n",
    "\n",
    "# Plot outputs\n",
    "plt.scatter(apple_X_test, apple_y_test,  color='black')\n",
    "plt.plot(apple_X_test, apple_y_pred, color='blue', linewidth=3)\n",
    "\n",
    "plt.xticks(())\n",
    "plt.yticks(())\n",
    "\n",
    "plt.show()"
   ]
  },
  {
   "cell_type": "markdown",
   "id": "e75de1c9",
   "metadata": {},
   "source": [
    "## Experiment 2"
   ]
  },
  {
   "cell_type": "markdown",
   "id": "871153ec",
   "metadata": {},
   "source": [
    "### Get Data Prepared"
   ]
  },
  {
   "cell_type": "code",
   "execution_count": 112,
   "id": "4306a4ff",
   "metadata": {},
   "outputs": [
    {
     "name": "stdout",
     "output_type": "stream",
     "text": [
      "20\n"
     ]
    }
   ],
   "source": [
    "#High\n",
    "appleHighFirst20 = appleStock['high']\n",
    "appleHighFirst20 = appleHighFirst20[5:25] #I changed it a little bit to not have outliers that will affect graph\n",
    "\n",
    "appleHighLast20 = appleStock['high']\n",
    "appleHighLast20 = appleHighLast20[-20:]\n",
    "\n",
    "#Low\n",
    "appleLowFirst20 = appleStock['low']\n",
    "appleLowFirst20 = appleLowFirst20[5:25]\n",
    "\n",
    "appleLowLast20 = appleStock['low']\n",
    "appleLowLast20 = appleLowLast20[-20:]"
   ]
  },
  {
   "cell_type": "markdown",
   "id": "eba7155d",
   "metadata": {},
   "source": [
    "## Scatter Models"
   ]
  },
  {
   "cell_type": "code",
   "execution_count": 118,
   "id": "4cffb48f",
   "metadata": {},
   "outputs": [
    {
     "data": {
      "image/png": "[encoded data removed]",
      "text/plain": [
       "<Figure size 864x864 with 1 Axes>"
      ]
     },
     "metadata": {
      "needs_background": "light"
     },
     "output_type": "display_data"
    }
   ],
   "source": [
    "fig = plt.figure(figsize= (12, 12))\n",
    "ax1 = fig.add_subplot(111)\n",
    "ax1.scatter(x=appleHighFirst20, y=appleHighFirst20, c='green', s=20, label='High')\n",
    "ax1.scatter(x=appleLowFirst20, y=appleLowFirst20, c='red', s=20, label='Low')\n",
    "ax1.set_title(\"2010's 20 High | Low Stock Prices\")\n",
    "ax1.legend()\n",
    "plt.show()"
   ]
  },
  {
   "cell_type": "code",
   "execution_count": 117,
   "id": "51a334b5",
   "metadata": {},
   "outputs": [
    {
     "data": {
      "image/png": "[encoded data removed]",
      "text/plain": [
       "<Figure size 864x864 with 1 Axes>"
      ]
     },
     "metadata": {
      "needs_background": "light"
     },
     "output_type": "display_data"
    }
   ],
   "source": [
    "fig = plt.figure(figsize= (12, 12))\n",
    "ax1 = fig.add_subplot(111)\n",
    "ax1.scatter(x=appleHighLast20, y=appleHighLast20, c='green', s=20, label='High')\n",
    "ax1.scatter(x=appleLowLast20, y=appleLowLast20, c='red', s=20, label='Low')\n",
    "ax1.set_title(\"2016's 20 High | Low Stock Prices\")\n",
    "ax1.legend()\n",
    "plt.show()"
   ]
  },
  {
   "cell_type": "markdown",
   "id": "426ba8e4",
   "metadata": {},
   "source": [
    "## Make and Train Data Sets"
   ]
  },
  {
   "cell_type": "code",
   "execution_count": 120,
   "id": "8457048f",
   "metadata": {},
   "outputs": [
    {
     "name": "stdout",
     "output_type": "stream",
     "text": [
      "<class 'pandas.core.frame.DataFrame'>\n",
      "1762\n",
      "<class 'pandas.core.frame.DataFrame'>\n",
      "1762\n",
      "1742\n",
      "20\n"
     ]
    }
   ],
   "source": [
    "# Split the data into training/testing sets\n",
    "appleHigh = appleStock['high']\n",
    "appleHigh = appleHigh.to_frame()\n",
    "print(type(appleHigh))\n",
    "print(len(appleHigh))\n",
    "appleHigh.describe\n",
    "apple_X_train = appleHigh[:-20]\n",
    "apple_X_test = appleHigh[-20:]\n",
    "\n",
    "# Split the targets into training/testing sets\n",
    "appleLow = appleStock['low']\n",
    "appleLow = appleLow.to_frame()\n",
    "print(type(appleLow))\n",
    "print(len(appleLow))\n",
    "appleLow.describe\n",
    "apple_y_train = appleLow[:-20]\n",
    "print(len(apple_y_train))\n",
    "apple_y_test = appleLow[-20:]\n",
    "print(len(apple_y_test))"
   ]
  },
  {
   "cell_type": "markdown",
   "id": "044d8f4f",
   "metadata": {},
   "source": [
    "## Prediction"
   ]
  },
  {
   "cell_type": "code",
   "execution_count": 121,
   "id": "115078b3",
   "metadata": {},
   "outputs": [
    {
     "name": "stdout",
     "output_type": "stream",
     "text": [
      "<bound method NDFrame.describe of              0\n",
      "0   109.251699\n",
      "1   110.080746\n",
      "2   109.581321\n",
      "3   109.341599\n",
      "4   110.939757\n",
      "5   112.388086\n",
      "6   113.366961\n",
      "7   113.916323\n",
      "8   115.114947\n",
      "9   115.454552\n",
      "10  116.543302\n",
      "11  115.874075\n",
      "12  116.812988\n",
      "13  116.872924\n",
      "14  116.423437\n",
      "15  115.664309\n",
      "16  116.593240\n",
      "17  117.592090\n",
      "18  116.523321\n",
      "19  116.723096>\n"
     ]
    }
   ],
   "source": [
    "dfApple_y_pred = pd.DataFrame(apple_y_pred)\n",
    "print(dfApple_y_pred.describe)"
   ]
  },
  {
   "cell_type": "markdown",
   "id": "2564fce6",
   "metadata": {},
   "source": [
    "## Linear Model"
   ]
  },
  {
   "cell_type": "code",
   "execution_count": 122,
   "id": "443579a4",
   "metadata": {},
   "outputs": [
    {
     "data": {
      "text/plain": [
       "LinearRegression()"
      ]
     },
     "execution_count": 122,
     "metadata": {},
     "output_type": "execute_result"
    }
   ],
   "source": [
    "# Create linear regression object\n",
    "regr = linear_model.LinearRegression()\n",
    "\n",
    "# Train the model using the training sets\n",
    "regr.fit(apple_X_train, apple_y_train)"
   ]
  },
  {
   "cell_type": "code",
   "execution_count": 123,
   "id": "43b9dbdb",
   "metadata": {},
   "outputs": [],
   "source": [
    "# Make predictions using the testing set\n",
    "apple_y_pred = regr.predict(apple_X_test)"
   ]
  },
  {
   "cell_type": "code",
   "execution_count": 124,
   "id": "30aa16a8",
   "metadata": {},
   "outputs": [],
   "source": [
    "## Data Print"
   ]
  },
  {
   "cell_type": "code",
   "execution_count": 127,
   "id": "d279b3b1",
   "metadata": {},
   "outputs": [
    {
     "name": "stdout",
     "output_type": "stream",
     "text": [
      "Coefficients: \n",
      " [[0.9810482]]\n",
      "Mean squared error: 1.02\n"
     ]
    },
    {
     "data": {
      "image/png": "[encoded data removed]",
      "text/plain": [
       "<Figure size 432x288 with 1 Axes>"
      ]
     },
     "metadata": {},
     "output_type": "display_data"
    }
   ],
   "source": [
    "# The coefficients\n",
    "print('Coefficients: \\n', regr.coef_)\n",
    "# The mean squared error\n",
    "print('Mean squared error: %.2f'\n",
    "      % mean_squared_error(apple_y_test, apple_y_pred))\n",
    "# The coefficient of determination: 1 is perfect prediction\n",
    "\n",
    "#***r2 score is having issues with values***\n",
    "# gets a score of -3.0 ??\n",
    "\n",
    "#print('Coefficient of determination: %.2f'\n",
    "      #% r2_score(apple_y_train, apple_y_pred))\n",
    "\n",
    "# Plot outputs\n",
    "plt.scatter(apple_X_test, apple_y_test,  color='black')\n",
    "plt.plot(apple_X_test, apple_y_pred, color='blue', linewidth=3)\n",
    "\n",
    "plt.xticks(())\n",
    "plt.yticks(())\n",
    "\n",
    "plt.show()"
   ]
  },
  {
   "cell_type": "markdown",
   "id": "cf740e2f",
   "metadata": {},
   "source": [
    "# Experiment 3"
   ]
  },
  {
   "cell_type": "markdown",
   "id": "cd451934",
   "metadata": {},
   "source": [
    "## Get Data Prepared"
   ]
  },
  {
   "cell_type": "code",
   "execution_count": 133,
   "id": "051f16fb",
   "metadata": {},
   "outputs": [
    {
     "name": "stdout",
     "output_type": "stream",
     "text": [
      "254       123432400.0\n",
      "721       150476200.0\n",
      "1189      138040000.0\n",
      "1657      119282800.0\n",
      "2125      111902700.0\n",
      "             ...     \n",
      "848767     14249500.0\n",
      "849267     18296900.0\n",
      "849767     20905900.0\n",
      "850267     15039500.0\n",
      "850767     30586300.0\n",
      "Name: volume, Length: 1762, dtype: float64\n"
     ]
    }
   ],
   "source": [
    "#Volume\n",
    "appleVolume = appleStock['volume']\n",
    "print(appleVolume)\n",
    "#High\n",
    "#We already have the appleHigh = appleStock['high'] from the previous experiment"
   ]
  },
  {
   "cell_type": "markdown",
   "id": "c2c7471d",
   "metadata": {},
   "source": [
    "## Scatter"
   ]
  },
  {
   "cell_type": "code",
   "execution_count": 140,
   "id": "c4a93658",
   "metadata": {},
   "outputs": [
    {
     "data": {
      "image/png": "[encoded data removed]",
      "text/plain": [
       "<Figure size 432x288 with 1 Axes>"
      ]
     },
     "metadata": {
      "needs_background": "light"
     },
     "output_type": "display_data"
    }
   ],
   "source": [
    "appleStock.plot.scatter(x='volume', y='high')\n",
    "plt.show()"
   ]
  },
  {
   "cell_type": "code",
   "execution_count": null,
   "id": "93324251",
   "metadata": {},
   "outputs": [],
   "source": []
  },
  {
   "cell_type": "code",
   "execution_count": null,
   "id": "5c7b526b",
   "metadata": {},
   "outputs": [],
   "source": []
  },
  {
   "cell_type": "code",
   "execution_count": null,
   "id": "f59580a1",
   "metadata": {},
   "outputs": [],
   "source": []
  },
  {
   "cell_type": "code",
   "execution_count": null,
   "id": "7e619962",
   "metadata": {},
   "outputs": [],
   "source": []
  },
  {
   "cell_type": "code",
   "execution_count": null,
   "id": "48f68b31",
   "metadata": {},
   "outputs": [],
   "source": []
  },
  {
   "cell_type": "code",
   "execution_count": null,
   "id": "06121e46",
   "metadata": {},
   "outputs": [],
   "source": []
  }
 ],
 "metadata": {
  "kernelspec": {
   "display_name": "Python 3 (ipykernel)",
   "language": "python",
   "name": "python3"
  },
  "language_info": {
   "codemirror_mode": {
    "name": "ipython",
    "version": 3
   },
   "file_extension": ".py",
   "mimetype": "text/x-python",
   "name": "python",
   "nbconvert_exporter": "python",
   "pygments_lexer": "ipython3",
   "version": "3.8.6"
  }
 },
 "nbformat": 4,
 "nbformat_minor": 5
}
